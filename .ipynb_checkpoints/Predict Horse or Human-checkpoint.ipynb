{
 "cells": [
  {
   "cell_type": "markdown",
   "metadata": {
    "colab_type": "text",
    "id": "L1dGbx82JR1c"
   },
   "source": [
    "This source code created by IndianAIProduction.com team https://indianaiproduction.com/horse-or-human-prediction-using-convolutional-neural-network\n",
    "\n",
    "Video on \n",
    "\n",
    "Part-1: https://youtu.be/i8gwTMoAtiY\n",
    "\n",
    "Part2: https://youtu.be/C6CxoMtNkJo\n",
    "\n",
    "Part3: https://youtu.be/lyDGt1KdFB4\n",
    "\n",
    "Part4: https://youtu.be/sssusl3XILs\n",
    "\n",
    "Part5: https://youtu.be/dS12-YHUM-Q\n",
    "\n",
    "Part6: https://youtu.be/qdQaMLj4yo8\n",
    "\n",
    "\n",
    "for video tutorial visit our youtube channel www.youtube.com\\IndianAIProduction\n"
   ]
  },
  {
   "cell_type": "markdown",
   "metadata": {
    "colab_type": "text",
    "id": "Z9RnP8Myuvni"
   },
   "source": [
    "# Predict Horse or Human\n",
    "\n",
    "Here we are loading train CNN model to predict Given input (image) is Horse of Human"
   ]
  },
  {
   "cell_type": "markdown",
   "metadata": {
    "colab_type": "text",
    "id": "4a6pmiMPv-Vv"
   },
   "source": [
    "# Import Libraries"
   ]
  },
  {
   "cell_type": "code",
   "execution_count": null,
   "metadata": {
    "colab": {
     "base_uri": "https://localhost:8080/",
     "height": 35
    },
    "colab_type": "code",
    "executionInfo": {
     "elapsed": 3121,
     "status": "ok",
     "timestamp": 1595781093888,
     "user": {
      "displayName": "indian ai production",
      "photoUrl": "",
      "userId": "05336710603640792650"
     },
     "user_tz": -330
    },
    "id": "ehkCwUTJvpb7",
    "outputId": "df15da2b-d39f-420b-b7e5-ecfedebcc83f"
   },
   "outputs": [
    {
     "name": "stderr",
     "output_type": "stream",
     "text": [
      "Using TensorFlow backend.\n"
     ]
    }
   ],
   "source": [
    "# Load Liraries\n",
    "import numpy as np\n",
    "\n",
    "import keras \n",
    "from keras.preprocessing.image import ImageDataGenerator"
   ]
  },
  {
   "cell_type": "markdown",
   "metadata": {
    "colab_type": "text",
    "id": "NNAEcsUMwBDr"
   },
   "source": [
    "# Import Model"
   ]
  },
  {
   "cell_type": "code",
   "execution_count": null,
   "metadata": {
    "colab": {},
    "colab_type": "code",
    "id": "2bMWPwD2ulTR"
   },
   "outputs": [],
   "source": [
    "model_path1 = '/content/drive/My Drive/My ML Project /DL Project/CNN/horse-or-human/horse_human_cnn_model_new.h5' #new model.ipynb\n",
    "model_path2 = '/content/drive/My Drive/My ML Project /DL Project/CNN/horse-or-human/horse_human_cnn_model_v2.h5' #v2 solve overfitting Horse_or_human Classification using CNN.ipynb\n",
    "model_path3 = '/content/drive/My Drive/My ML Project /DL Project/CNN/horse-or-human/horse_human_cnn_model_v2_1.h5' #v2 solve overfitting Horse_or_human Classification using CNN.ipynb\n",
    "\n",
    "model1 = keras.models.load_model(model_path1)\n",
    "model2 = keras.models.load_model(model_path2)\n",
    "model3 = keras.models.load_model(model_path3)\n"
   ]
  },
  {
   "cell_type": "markdown",
   "metadata": {
    "colab_type": "text",
    "id": "xbKbKUjowvRV"
   },
   "source": [
    "#Preprocessing"
   ]
  },
  {
   "cell_type": "code",
   "execution_count": null,
   "metadata": {
    "colab": {},
    "colab_type": "code",
    "id": "eEkQUpMGxVAl"
   },
   "outputs": [],
   "source": [
    "#horse image path\n",
    "h1 = '/content/drive/My Drive/My ML Project /DL Project/CNN/horse-or-human/dataset/test_data/horse_test/horse1-204.png'\n",
    "h2 = '/content/drive/My Drive/My ML Project /DL Project/CNN/horse-or-human/dataset/test_data/horse_test/horse2-069.png'\n",
    "h3 = '/content/drive/My Drive/My ML Project /DL Project/CNN/horse-or-human/dataset/test_data/horse_test/horse3-070.png'\n",
    "h4 = '/content/drive/My Drive/My ML Project /DL Project/CNN/horse-or-human/dataset/test_data/horse_test/horse4-439.png'\n",
    "h5 = '/content/drive/My Drive/My ML Project /DL Project/CNN/horse-or-human/dataset/test_data/horse_test/horse5-203.png'\n",
    "h6 = '/content/drive/My Drive/My ML Project /DL Project/CNN/horse-or-human/dataset/test_data/horse_test/horse6-161.png'\n",
    "h7 = '/content/drive/My Drive/My ML Project /DL Project/CNN/horse-or-human/dataset/validation/horses/horse2-224.png'\n",
    "h8 =\"/content/drive/My Drive/My ML Project /DL Project/CNN/horse-or-human/dataset/validation/horses/horse5-123.png\"\n",
    "\n",
    "#human image path\n",
    "hu1 = '/content/drive/My Drive/My ML Project /DL Project/CNN/horse-or-human/dataset/test_data/human_test/valhuman01-09.png'\n",
    "hu2 = '/content/drive/My Drive/My ML Project /DL Project/CNN/horse-or-human/dataset/test_data/human_test/valhuman02-18.png'\n",
    "hu3 = '/content/drive/My Drive/My ML Project /DL Project/CNN/horse-or-human/dataset/test_data/human_test/valhuman03-23.png'\n",
    "hu4 = '/content/drive/My Drive/My ML Project /DL Project/CNN/horse-or-human/dataset/test_data/human_test/valhuman04-24.png'\n",
    "hu5 = '/content/drive/My Drive/My ML Project /DL Project/CNN/horse-or-human/dataset/test_data/human_test/valhuman05-19.png'\n",
    "hu6 = '/content/drive/My Drive/My ML Project /DL Project/CNN/horse-or-human/dataset/validation/humans/valhuman01-13.png'"
   ]
  },
  {
   "cell_type": "code",
   "execution_count": null,
   "metadata": {
    "colab": {},
    "colab_type": "code",
    "id": "8Qgc5vjmwxkI"
   },
   "outputs": [],
   "source": [
    "import numpy as np\n",
    "from keras.preprocessing import image\n",
    "\n",
    "def pred_human_horse(model, horse_or_human):\n",
    "  test_image = image.load_img(horse_or_human, target_size = (150, 150))\n",
    "  test_image = image.img_to_array(test_image)/255\n",
    "  test_image = np.expand_dims(test_image, axis = 0)\n",
    "\n",
    "  result = model.predict(test_image).round(3)\n",
    "\n",
    "  pred = np.argmax(result)\n",
    "  print(result, \"--->>>\", pred)\n",
    "\n",
    "  if pred == 0:\n",
    "    print('Predicted>>> Horse')\n",
    "  else:\n",
    "    print('Predicted>>> Human')"
   ]
  },
  {
   "cell_type": "markdown",
   "metadata": {
    "colab_type": "text",
    "id": "Bint5ArFwPL5"
   },
   "source": [
    "## Predict Output"
   ]
  },
  {
   "cell_type": "code",
   "execution_count": null,
   "metadata": {
    "colab": {
     "base_uri": "https://localhost:8080/",
     "height": 503
    },
    "colab_type": "code",
    "executionInfo": {
     "elapsed": 1728,
     "status": "ok",
     "timestamp": 1595781489914,
     "user": {
      "displayName": "indian ai production",
      "photoUrl": "",
      "userId": "05336710603640792650"
     },
     "user_tz": -330
    },
    "id": "Y9xPWs_azhYX",
    "outputId": "cdd37652-748c-4ec7-b85d-46f349f45669"
   },
   "outputs": [
    {
     "name": "stdout",
     "output_type": "stream",
     "text": [
      "[[0.996 0.004]] --->>> 0\n",
      "Predicted>>> Horse\n",
      "[[0. 1.]] --->>> 1\n",
      "Predicted>>> Human\n",
      "[[0.999 0.001]] --->>> 0\n",
      "Predicted>>> Horse\n",
      "[[0.586 0.414]] --->>> 0\n",
      "Predicted>>> Horse\n",
      "[[0.967 0.033]] --->>> 0\n",
      "Predicted>>> Horse\n",
      "[[0. 1.]] --->>> 1\n",
      "Predicted>>> Human\n",
      "[[0.681 0.319]] --->>> 0\n",
      "Predicted>>> Horse\n",
      "[[0. 1.]] --->>> 1\n",
      "Predicted>>> Human\n",
      "[[0. 1.]] --->>> 1\n",
      "Predicted>>> Human\n",
      "[[0. 1.]] --->>> 1\n",
      "Predicted>>> Human\n",
      "[[0. 1.]] --->>> 1\n",
      "Predicted>>> Human\n",
      "[[0. 1.]] --->>> 1\n",
      "Predicted>>> Human\n",
      "[[0. 1.]] --->>> 1\n",
      "Predicted>>> Human\n",
      "[[0. 1.]] --->>> 1\n",
      "Predicted>>> Human\n"
     ]
    }
   ],
   "source": [
    "for horse_or_human in [h1,h2,h3,h4,h5,h6,h7,h8, hu1,hu2,hu3,hu4,hu5,hu6]:\n",
    "  pred_human_horse(model1, horse_or_human)"
   ]
  },
  {
   "cell_type": "code",
   "execution_count": null,
   "metadata": {
    "colab": {
     "base_uri": "https://localhost:8080/",
     "height": 503
    },
    "colab_type": "code",
    "executionInfo": {
     "elapsed": 10858,
     "status": "ok",
     "timestamp": 1595781595119,
     "user": {
      "displayName": "indian ai production",
      "photoUrl": "",
      "userId": "05336710603640792650"
     },
     "user_tz": -330
    },
    "id": "SeixbJHQzvn-",
    "outputId": "c3a819e7-ffbd-485e-b7cb-6bb4c05504b2"
   },
   "outputs": [
    {
     "name": "stdout",
     "output_type": "stream",
     "text": [
      "[[0.529 0.488]] --->>> 0\n",
      "Predicted>>> Horse\n",
      "[[0.529 0.536]] --->>> 1\n",
      "Predicted>>> Human\n",
      "[[0.62  0.398]] --->>> 0\n",
      "Predicted>>> Horse\n",
      "[[0.651 0.404]] --->>> 0\n",
      "Predicted>>> Horse\n",
      "[[0.6   0.427]] --->>> 0\n",
      "Predicted>>> Horse\n",
      "[[0.534 0.536]] --->>> 1\n",
      "Predicted>>> Human\n",
      "[[0.536 0.496]] --->>> 0\n",
      "Predicted>>> Horse\n",
      "[[0.527 0.504]] --->>> 0\n",
      "Predicted>>> Horse\n",
      "[[0.519 0.533]] --->>> 1\n",
      "Predicted>>> Human\n",
      "[[0.52  0.546]] --->>> 1\n",
      "Predicted>>> Human\n",
      "[[0.531 0.563]] --->>> 1\n",
      "Predicted>>> Human\n",
      "[[0.508 0.565]] --->>> 1\n",
      "Predicted>>> Human\n",
      "[[0.5   0.571]] --->>> 1\n",
      "Predicted>>> Human\n",
      "[[0.522 0.54 ]] --->>> 1\n",
      "Predicted>>> Human\n"
     ]
    }
   ],
   "source": [
    "for horse_or_human in [h1,h2,h3,h4,h5,h6,h7,h8, hu1,hu2,hu3,hu4,hu5,hu6]:\n",
    "  pred_human_horse(model2, horse_or_human)"
   ]
  },
  {
   "cell_type": "code",
   "execution_count": null,
   "metadata": {
    "colab": {
     "base_uri": "https://localhost:8080/",
     "height": 503
    },
    "colab_type": "code",
    "executionInfo": {
     "elapsed": 4734,
     "status": "ok",
     "timestamp": 1595781635411,
     "user": {
      "displayName": "indian ai production",
      "photoUrl": "",
      "userId": "05336710603640792650"
     },
     "user_tz": -330
    },
    "id": "Zk7ZMZVSEvlA",
    "outputId": "899664a0-fabc-41e2-bf66-ab022b4fb4d3"
   },
   "outputs": [
    {
     "name": "stdout",
     "output_type": "stream",
     "text": [
      "[[0.985 0.015]] --->>> 0\n",
      "Predicted>>> Horse\n",
      "[[0. 1.]] --->>> 1\n",
      "Predicted>>> Human\n",
      "[[0.999 0.001]] --->>> 0\n",
      "Predicted>>> Horse\n",
      "[[0.253 0.747]] --->>> 1\n",
      "Predicted>>> Human\n",
      "[[0.925 0.075]] --->>> 0\n",
      "Predicted>>> Horse\n",
      "[[0. 1.]] --->>> 1\n",
      "Predicted>>> Human\n",
      "[[0.06 0.94]] --->>> 1\n",
      "Predicted>>> Human\n",
      "[[0. 1.]] --->>> 1\n",
      "Predicted>>> Human\n",
      "[[0. 1.]] --->>> 1\n",
      "Predicted>>> Human\n",
      "[[0. 1.]] --->>> 1\n",
      "Predicted>>> Human\n",
      "[[0. 1.]] --->>> 1\n",
      "Predicted>>> Human\n",
      "[[0. 1.]] --->>> 1\n",
      "Predicted>>> Human\n",
      "[[0. 1.]] --->>> 1\n",
      "Predicted>>> Human\n",
      "[[0. 1.]] --->>> 1\n",
      "Predicted>>> Human\n"
     ]
    }
   ],
   "source": [
    "for horse_or_human in [h1,h2,h3,h4,h5,h6,h7,h8, hu1,hu2,hu3,hu4,hu5,hu6]:\n",
    "  pred_human_horse(model3, horse_or_human)"
   ]
  },
  {
   "cell_type": "markdown",
   "metadata": {
    "colab_type": "text",
    "id": "IuQx-ITSI9SD"
   },
   "source": [
    "## Ab milenge next tutorial me,Tab tak ke liye SIKHATE SIKHATE kuch IMPLEMENT karte raho, Thank You.....-:)"
   ]
  }
 ],
 "metadata": {
  "colab": {
   "authorship_tag": "ABX9TyOzNaQdIl49Tvc1Yj9l/nD9",
   "collapsed_sections": [],
   "mount_file_id": "1e4r8Xxph1AHZM_uJAMaXAEvDfAAxDQKJ",
   "name": "Predict Horse or Human.ipynb",
   "provenance": []
  },
  "kernelspec": {
   "display_name": "Python 3 (ipykernel)",
   "language": "python",
   "name": "python3"
  },
  "language_info": {
   "codemirror_mode": {
    "name": "ipython",
    "version": 3
   },
   "file_extension": ".py",
   "mimetype": "text/x-python",
   "name": "python",
   "nbconvert_exporter": "python",
   "pygments_lexer": "ipython3",
   "version": "3.7.11"
  }
 },
 "nbformat": 4,
 "nbformat_minor": 1
}
